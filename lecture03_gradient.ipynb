{
 "cells": [
  {
   "cell_type": "code",
   "execution_count": 1,
   "metadata": {},
   "outputs": [],
   "source": [
    "# http://wingnim.tistory.com/29?category=772392\n",
    "# back_propagation\n",
    "import numpy as np\n",
    "import matplotlib.pyplot as plt\n",
    "\n",
    " \n",
    "x_data = [1.0, 2.0, 3.0]\n",
    "y_data = [2.0, 4.0, 6.0]"
   ]
  },
  {
   "cell_type": "code",
   "execution_count": 2,
   "metadata": {},
   "outputs": [],
   "source": [
    "w= 1.0\n",
    "# our model for the forward pass\n",
    "def forward(x):\n",
    "    return x * w"
   ]
  },
  {
   "cell_type": "code",
   "execution_count": 4,
   "metadata": {},
   "outputs": [],
   "source": [
    "# Loss function\n",
    "def loss(x, y):\n",
    "    y_pred = forward(x)\n",
    "    return (y_pred - y) * (y_pred - y)"
   ]
  },
  {
   "cell_type": "code",
   "execution_count": 7,
   "metadata": {},
   "outputs": [],
   "source": [
    "# Calculate Gradient\n",
    "def gradient(x, y):\n",
    "    return 2 * x * (x * w - y)"
   ]
  },
  {
   "cell_type": "code",
   "execution_count": 8,
   "metadata": {},
   "outputs": [
    {
     "name": "stdout",
     "output_type": "stream",
     "text": [
      "predict (before training) 4 4.0\n"
     ]
    }
   ],
   "source": [
    "#Before \n",
    "print(\"predict (before training)\", 4, forward(4))"
   ]
  },
  {
   "cell_type": "code",
   "execution_count": 13,
   "metadata": {},
   "outputs": [
    {
     "name": "stdout",
     "output_type": "stream",
     "text": [
      "\tgrad:  1.0 2.0 -0.0\n",
      "\tgrad:  2.0 4.0 -0.02\n",
      "\tgrad:  3.0 6.0 -0.04\n",
      "progress: 0 w= 1.998240525958391 2.0 loss: 2.7861740127856012e-05\n",
      "\tgrad:  1.0 2.0 -0.0\n",
      "\tgrad:  2.0 4.0 -0.01\n",
      "\tgrad:  3.0 6.0 -0.03\n",
      "progress: 1 w= 1.99869919972735 2.0 loss: 1.5228732143933469e-05\n",
      "\tgrad:  1.0 2.0 -0.0\n",
      "\tgrad:  2.0 4.0 -0.01\n",
      "\tgrad:  3.0 6.0 -0.02\n",
      "progress: 2 w= 1.9990383027488265 2.0 loss: 8.323754426231206e-06\n",
      "\tgrad:  1.0 2.0 -0.0\n",
      "\tgrad:  2.0 4.0 -0.01\n",
      "\tgrad:  3.0 6.0 -0.02\n",
      "progress: 3 w= 1.9992890056818404 2.0 loss: 4.549616284094891e-06\n",
      "\tgrad:  1.0 2.0 -0.0\n",
      "\tgrad:  2.0 4.0 -0.01\n",
      "\tgrad:  3.0 6.0 -0.01\n",
      "progress: 4 w= 1.999474353368653 2.0 loss: 2.486739429417538e-06\n",
      "\tgrad:  1.0 2.0 -0.0\n",
      "\tgrad:  2.0 4.0 -0.0\n",
      "\tgrad:  3.0 6.0 -0.01\n",
      "progress: 5 w= 1.9996113831376856 2.0 loss: 1.3592075910762856e-06\n",
      "\tgrad:  1.0 2.0 -0.0\n",
      "\tgrad:  2.0 4.0 -0.0\n",
      "\tgrad:  3.0 6.0 -0.01\n",
      "progress: 6 w= 1.9997126908902887 2.0 loss: 7.429187207079447e-07\n",
      "\tgrad:  1.0 2.0 -0.0\n",
      "\tgrad:  2.0 4.0 -0.0\n",
      "\tgrad:  3.0 6.0 -0.0\n",
      "progress: 7 w= 1.9997875889274812 2.0 loss: 4.060661735575354e-07\n",
      "\tgrad:  1.0 2.0 -0.0\n",
      "\tgrad:  2.0 4.0 -0.0\n",
      "\tgrad:  3.0 6.0 -0.0\n",
      "progress: 8 w= 1.9998429619451539 2.0 loss: 2.2194855602869353e-07\n",
      "\tgrad:  1.0 2.0 -0.0\n",
      "\tgrad:  2.0 4.0 -0.0\n",
      "\tgrad:  3.0 6.0 -0.0\n",
      "progress: 9 w= 1.9998838998815958 2.0 loss: 1.213131374411496e-07\n"
     ]
    }
   ],
   "source": [
    "\n",
    "for epoch in range(10):\n",
    "    for x_val, y_val in zip(x_data, y_data):\n",
    "        grad = gradient(x_val, y_val)\n",
    "        w = w - 0.01 * grad\n",
    "        \n",
    "        print(\"\\tgrad: \", x_val, y_val, round(grad, 2))\n",
    "        l = loss(x_val, y_val)\n",
    "     \n",
    "    print(\"progress:\", epoch, \"w=\", w, round(w,2), \"loss:\",l)\n",
    "        "
   ]
  },
  {
   "cell_type": "code",
   "execution_count": 14,
   "metadata": {},
   "outputs": [
    {
     "name": "stdout",
     "output_type": "stream",
     "text": [
      "predict (after training) 4 hours  7.999535599526383\n"
     ]
    }
   ],
   "source": [
    "# after training\n",
    "print(\"predict (after training)\", \"4 hours \", forward(4))"
   ]
  },
  {
   "cell_type": "code",
   "execution_count": null,
   "metadata": {},
   "outputs": [],
   "source": []
  }
 ],
 "metadata": {
  "kernelspec": {
   "display_name": "Python 3",
   "language": "python",
   "name": "python3"
  },
  "language_info": {
   "codemirror_mode": {
    "name": "ipython",
    "version": 3
   },
   "file_extension": ".py",
   "mimetype": "text/x-python",
   "name": "python",
   "nbconvert_exporter": "python",
   "pygments_lexer": "ipython3",
   "version": "3.6.5"
  }
 },
 "nbformat": 4,
 "nbformat_minor": 2
}
